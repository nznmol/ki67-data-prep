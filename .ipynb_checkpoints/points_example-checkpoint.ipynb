{
 "cells": [
  {
   "cell_type": "markdown",
   "metadata": {},
   "source": [
    "# Fill from Outflow Points Example"
   ]
  },
  {
   "cell_type": "code",
   "execution_count": null,
   "metadata": {},
   "outputs": [],
   "source": []
  },
  {
   "cell_type": "code",
   "execution_count": 1,
   "metadata": {},
   "outputs": [
    {
     "ename": "ModuleNotFoundError",
     "evalue": "No module named 'matplotlib'",
     "output_type": "error",
     "traceback": [
      "\u001b[0;31m---------------------------------------------------------------------------\u001b[0m",
      "\u001b[0;31mModuleNotFoundError\u001b[0m                       Traceback (most recent call last)",
      "\u001b[0;32m<ipython-input-1-2f19dec09926>\u001b[0m in \u001b[0;36m<module>\u001b[0;34m()\u001b[0m\n\u001b[1;32m      2\u001b[0m \u001b[0;32mimport\u001b[0m \u001b[0mos\u001b[0m\u001b[0;34m\u001b[0m\u001b[0m\n\u001b[1;32m      3\u001b[0m \u001b[0;34m\u001b[0m\u001b[0m\n\u001b[0;32m----> 4\u001b[0;31m \u001b[0;32mimport\u001b[0m \u001b[0mmatplotlib\u001b[0m\u001b[0;34m\u001b[0m\u001b[0m\n\u001b[0m\u001b[1;32m      5\u001b[0m \u001b[0;32mimport\u001b[0m \u001b[0mmatplotlib\u001b[0m\u001b[0;34m.\u001b[0m\u001b[0mpyplot\u001b[0m \u001b[0;32mas\u001b[0m \u001b[0mplt\u001b[0m\u001b[0;34m\u001b[0m\u001b[0m\n\u001b[1;32m      6\u001b[0m \u001b[0;32mimport\u001b[0m \u001b[0mnumpy\u001b[0m \u001b[0;32mas\u001b[0m \u001b[0mnp\u001b[0m\u001b[0;34m\u001b[0m\u001b[0m\n",
      "\u001b[0;31mModuleNotFoundError\u001b[0m: No module named 'matplotlib'"
     ]
    }
   ],
   "source": [
    "import heapq\n",
    "import os\n",
    "\n",
    "import matplotlib\n",
    "import matplotlib.pyplot as plt\n",
    "import numpy as np\n",
    "from osgeo import gdal\n",
    "\n",
    "import floodfill\n",
    "\n",
    "%matplotlib inline\n",
    "matplotlib.rcParams['figure.figsize'] = (10, 10)"
   ]
  },
  {
   "cell_type": "markdown",
   "metadata": {},
   "source": [
    "### Initial test arrays"
   ]
  },
  {
   "cell_type": "code",
   "execution_count": null,
   "metadata": {},
   "outputs": [],
   "source": [
    "dem_adj = np.array([\n",
    "    [1.0, 1.0, 1.0, 1.0, 1.0, 1.0],\n",
    "    [1.0, 0.1, 1.0, 1.0, 1.0, 1.0],\n",
    "    [0.1, 0.6, 0.2, 0.3, 1.0, 1.0],\n",
    "    [0.2, 0.7, 0.3, 0.4, 0.1, 1.0],\n",
    "    [1.0, 0.8, 0.4, 1.0, 1.0, 1.0],\n",
    "    [1.0, 1.0, 0.2, 1.0, 1.0, 1.0],\n",
    "])\n",
    "hru_type = np.array([\n",
    "    [0, 0, 0, 0, 0, 0],\n",
    "    [0, 1, 1, 1, 1, 0],\n",
    "    [0, 1, 1, 1, 1, 0],\n",
    "    [0, 1, 1, 1, 1, 0],\n",
    "    [0, 1, 1, 1, 1, 0],\n",
    "    [0, 1, 1, 1, 1, 0],\n",
    "])\n",
    "outflow_pts = [[3, 4]]\n",
    "print(dem_adj)\n",
    "print(hru_type)\n",
    "print(dem_adj[outflow_pts[0][0], outflow_pts[0][1]])"
   ]
  },
  {
   "cell_type": "markdown",
   "metadata": {},
   "source": [
    "### 8-way filling\n",
    "Set inactive cells to nodata and compute fill"
   ]
  },
  {
   "cell_type": "code",
   "execution_count": null,
   "metadata": {},
   "outputs": [],
   "source": [
    "dem_fill = dem_adj.copy()\n",
    "print(dem_fill)\n",
    "dem_mask = (hru_type > 0)\n",
    "dem_fill[~dem_mask] = np.nan\n",
    "\n",
    "dem_fill = floodfill.from_points(dem_fill, outflow_pts, four_way=False)\n",
    "dem_fill[~dem_mask] = dem_adj[~dem_mask]\n",
    "print(dem_fill)"
   ]
  },
  {
   "cell_type": "markdown",
   "metadata": {},
   "source": [
    "### 4-way filling"
   ]
  },
  {
   "cell_type": "code",
   "execution_count": null,
   "metadata": {},
   "outputs": [],
   "source": [
    "dem_fill = dem_adj.copy()\n",
    "print(dem_fill)\n",
    "dem_mask = (hru_type > 0)\n",
    "dem_fill[~dem_mask] = np.nan\n",
    "\n",
    "dem_fill = floodfill.from_points(dem_fill, outflow_pts, four_way=True)\n",
    "dem_fill[~dem_mask] = dem_adj[~dem_mask]\n",
    "print(dem_fill)"
   ]
  },
  {
   "cell_type": "markdown",
   "metadata": {},
   "source": [
    "### Try with a couple of outflow points"
   ]
  },
  {
   "cell_type": "code",
   "execution_count": null,
   "metadata": {},
   "outputs": [],
   "source": [
    "dem_adj = np.array([\n",
    "    [1.0, 1.0, 1.0, 1.0, 1.0, 1.0],\n",
    "    [1.0, 0.1, 1.0, 1.0, 1.0, 1.0],\n",
    "    [0.1, 0.6, 0.2, 0.3, 1.0, 1.0],\n",
    "    [0.2, 0.7, 0.3, 0.4, 0.1, 1.0],\n",
    "    [1.0, 0.8, 0.4, 0.4, 0.3, 1.0],\n",
    "    [1.0, 1.0, 0.2, 0.4, 0.2, 1.0],\n",
    "])\n",
    "    \n",
    "outflow_pts = [[1, 1], [3, 4]]\n",
    "mask = np.zeros(dem_adj.shape, dtype=np.bool)\n",
    "mask[zip(*outflow_pts)] = 1\n",
    "print(dem_adj)\n",
    "print(mask)\n",
    "for outflow_pt in outflow_pts:\n",
    "    print(dem_adj[outflow_pt[0], outflow_pt[1]])\n",
    "\n",
    "dem_fill = dem_adj.copy()\n",
    "print(dem_fill)\n",
    "\n",
    "dem_fill = fill.outflow_fill(dem_fill, outflow_pts, four_way=False)\n",
    "print(dem_fill)"
   ]
  },
  {
   "cell_type": "code",
   "execution_count": null,
   "metadata": {},
   "outputs": [],
   "source": []
  }
 ],
 "metadata": {
  "kernelspec": {
   "display_name": "Python 3",
   "language": "python",
   "name": "python3"
  },
  "language_info": {
   "codemirror_mode": {
    "name": "ipython",
    "version": 3
   },
   "file_extension": ".py",
   "mimetype": "text/x-python",
   "name": "python",
   "nbconvert_exporter": "python",
   "pygments_lexer": "ipython3",
   "version": "3.6.5"
  }
 },
 "nbformat": 4,
 "nbformat_minor": 2
}
